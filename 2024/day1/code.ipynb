{
 "cells": [
  {
   "cell_type": "code",
   "execution_count": 3,
   "metadata": {},
   "outputs": [
    {
     "name": "stdout",
     "output_type": "stream",
     "text": [
      "2113135\n"
     ]
    }
   ],
   "source": [
    "data = open('./input.txt').read().strip().split('\\n')\n",
    "data = [e.split('   ') for e in data]\n",
    "data = [(int(x), int(y)) for x, y in data]\n",
    "left = [e[0] for e in data]\n",
    "right = [e[1] for e in data]\n",
    "left.sort()\n",
    "right.sort()\n",
    "diffs = [abs(left[i] - right[i]) for i in range(len(left))]\n",
    "print(sum(diffs))"
   ]
  },
  {
   "cell_type": "code",
   "execution_count": null,
   "metadata": {},
   "outputs": [],
   "source": []
  }
 ],
 "metadata": {
  "kernelspec": {
   "display_name": "Python 3",
   "language": "python",
   "name": "python3"
  },
  "language_info": {
   "codemirror_mode": {
    "name": "ipython",
    "version": 3
   },
   "file_extension": ".py",
   "mimetype": "text/x-python",
   "name": "python",
   "nbconvert_exporter": "python",
   "pygments_lexer": "ipython3",
   "version": "3.12.1"
  }
 },
 "nbformat": 4,
 "nbformat_minor": 2
}
