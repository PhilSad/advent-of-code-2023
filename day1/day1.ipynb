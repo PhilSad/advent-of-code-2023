{
 "cells": [
  {
   "cell_type": "code",
   "execution_count": 118,
   "metadata": {},
   "outputs": [],
   "source": [
    "path = \"./input.txt\"\n",
    "with open(path) as f:\n",
    "    lines = f.readlines()\n"
   ]
  },
  {
   "cell_type": "code",
   "execution_count": 92,
   "metadata": {},
   "outputs": [],
   "source": [
    "def solve_part1(lines):\n",
    "    res_sum = 0\n",
    "    for line in lines:\n",
    "        letter_stripped = re.sub('\\D', \"\", line)\n",
    "        if len(letter_stripped) == 0:\n",
    "            raise Exception(\"not possible to have 0 numbers\")\n",
    "        if len(letter_stripped) == 1:\n",
    "            out = f\"{letter_stripped[0]}{letter_stripped[0]}\"\n",
    "        else:\n",
    "            out = f\"{letter_stripped[0]}{letter_stripped[-1]}\"\n",
    "        res_sum += int(out)\n",
    "    return res_sum\n",
    "\n",
    "    "
   ]
  },
  {
   "cell_type": "code",
   "execution_count": 94,
   "metadata": {},
   "outputs": [
    {
     "data": {
      "text/plain": [
       "54877"
      ]
     },
     "execution_count": 94,
     "metadata": {},
     "output_type": "execute_result"
    }
   ],
   "source": [
    "solve_part1(lines)"
   ]
  },
  {
   "cell_type": "markdown",
   "metadata": {},
   "source": [
    "# Part 2"
   ]
  },
  {
   "cell_type": "code",
   "execution_count": 124,
   "metadata": {},
   "outputs": [],
   "source": [
    "def get_number_at_start(string):\n",
    "    if string[0] in \"0123456789\":\n",
    "        return string[0]\n",
    "    if string.startswith(\"one\"):\n",
    "        return \"1\"\n",
    "    if string.startswith(\"two\"):\n",
    "        return \"2\"\n",
    "    if string.startswith(\"three\"):\n",
    "        return \"3\"\n",
    "    if string.startswith(\"four\"):\n",
    "        return \"4\"\n",
    "    if string.startswith(\"five\"):\n",
    "        return \"5\"\n",
    "    if string.startswith(\"six\"):\n",
    "        return \"6\"\n",
    "    if string.startswith(\"seven\"):\n",
    "        return \"7\"\n",
    "    if string.startswith(\"eight\"):\n",
    "        return \"8\"\n",
    "    if string.startswith(\"nine\"):\n",
    "        return \"9\"\n",
    "    return \"\"\n",
    "    "
   ]
  },
  {
   "cell_type": "code",
   "execution_count": 132,
   "metadata": {},
   "outputs": [],
   "source": [
    "def get_first_and_last_number(string):\n",
    "    conv = \"\"\n",
    "    for i in range(len(string)):\n",
    "        conv += get_number_at_start(string[i:])\n",
    "    if len(conv) == 1:\n",
    "        return f\"{conv[0]}{conv[0]}\"\n",
    "    return f\"{conv[0]}{conv[-1]}\"\n",
    "\n",
    "def solve_part2(lines):\n",
    "    res_sum = 0\n",
    "    for line in lines:\n",
    "        res_sum += int(get_first_and_last_number(line))\n",
    "    return res_sum"
   ]
  },
  {
   "cell_type": "code",
   "execution_count": 134,
   "metadata": {},
   "outputs": [
    {
     "data": {
      "text/plain": [
       "54100"
      ]
     },
     "execution_count": 134,
     "metadata": {},
     "output_type": "execute_result"
    }
   ],
   "source": [
    "solve_part2(lines)"
   ]
  }
 ],
 "metadata": {
  "kernelspec": {
   "display_name": "Python 3",
   "language": "python",
   "name": "python3"
  },
  "language_info": {
   "codemirror_mode": {
    "name": "ipython",
    "version": 3
   },
   "file_extension": ".py",
   "mimetype": "text/x-python",
   "name": "python",
   "nbconvert_exporter": "python",
   "pygments_lexer": "ipython3",
   "version": "3.10.13"
  }
 },
 "nbformat": 4,
 "nbformat_minor": 2
}
